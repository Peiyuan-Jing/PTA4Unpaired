{
 "cells": [
  {
   "cell_type": "code",
   "execution_count": 1,
   "id": "35866f45-3e31-4372-95d0-d5699f880d3b",
   "metadata": {},
   "outputs": [
    {
     "name": "stdout",
     "output_type": "stream",
     "text": [
      "odict_keys(['conv_encoder.down_sampling.1.weight', 'conv_encoder.down_sampling.2.weight', 'conv_encoder.down_sampling.2.bias', 'conv_encoder.down_sampling.2.running_mean', 'conv_encoder.down_sampling.2.running_var', 'conv_encoder.down_sampling.2.num_batches_tracked', 'conv_encoder.down_sampling.4.weight', 'conv_encoder.down_sampling.5.weight', 'conv_encoder.down_sampling.5.bias', 'conv_encoder.down_sampling.5.running_mean', 'conv_encoder.down_sampling.5.running_var', 'conv_encoder.down_sampling.5.num_batches_tracked', 'conv_encoder.down_sampling.7.weight', 'conv_encoder.down_sampling.8.weight', 'conv_encoder.down_sampling.8.bias', 'conv_encoder.down_sampling.8.running_mean', 'conv_encoder.down_sampling.8.running_var', 'conv_encoder.down_sampling.8.num_batches_tracked', 'conv_encoder.down_sampling.10.weight', 'conv_encoder.down_sampling.11.weight', 'conv_encoder.down_sampling.11.bias', 'conv_encoder.down_sampling.11.running_mean', 'conv_encoder.down_sampling.11.running_var', 'conv_encoder.down_sampling.11.num_batches_tracked', 'conv_decoder.up_sampling.0.weight', 'conv_decoder.up_sampling.1.weight', 'conv_decoder.up_sampling.1.bias', 'conv_decoder.up_sampling.1.running_mean', 'conv_decoder.up_sampling.1.running_var', 'conv_decoder.up_sampling.1.num_batches_tracked', 'conv_decoder.up_sampling.3.weight', 'conv_decoder.up_sampling.4.weight', 'conv_decoder.up_sampling.4.bias', 'conv_decoder.up_sampling.4.running_mean', 'conv_decoder.up_sampling.4.running_var', 'conv_decoder.up_sampling.4.num_batches_tracked', 'conv_decoder.up_sampling.6.weight', 'conv_decoder.up_sampling.7.weight', 'conv_decoder.up_sampling.7.bias', 'conv_decoder.up_sampling.7.running_mean', 'conv_decoder.up_sampling.7.running_var', 'conv_decoder.up_sampling.7.num_batches_tracked', 'conv_decoder.up_sampling.10.weight', 'conv_decoder.up_sampling.10.bias', 'transformer.layers.0.0.norm.weight', 'transformer.layers.0.0.norm.bias', 'transformer.layers.0.0.fn.to_q.net.0.weight', 'transformer.layers.0.0.fn.to_q.net.1.weight', 'transformer.layers.0.0.fn.to_q.net.1.bias', 'transformer.layers.0.0.fn.to_q.net.1.running_mean', 'transformer.layers.0.0.fn.to_q.net.1.running_var', 'transformer.layers.0.0.fn.to_q.net.1.num_batches_tracked', 'transformer.layers.0.0.fn.to_q.net.2.weight', 'transformer.layers.0.0.fn.to_kv.net.0.weight', 'transformer.layers.0.0.fn.to_kv.net.1.weight', 'transformer.layers.0.0.fn.to_kv.net.1.bias', 'transformer.layers.0.0.fn.to_kv.net.1.running_mean', 'transformer.layers.0.0.fn.to_kv.net.1.running_var', 'transformer.layers.0.0.fn.to_kv.net.1.num_batches_tracked', 'transformer.layers.0.0.fn.to_kv.net.2.weight', 'transformer.layers.0.0.fn.to_out.0.weight', 'transformer.layers.0.0.fn.to_out.0.bias', 'transformer.layers.0.1.norm.weight', 'transformer.layers.0.1.norm.bias', 'transformer.layers.0.1.fn.net.0.weight', 'transformer.layers.0.1.fn.net.0.bias', 'transformer.layers.0.1.fn.net.3.weight', 'transformer.layers.0.1.fn.net.3.bias', 'transformer.layers.1.0.norm.weight', 'transformer.layers.1.0.norm.bias', 'transformer.layers.1.0.fn.to_q.net.0.weight', 'transformer.layers.1.0.fn.to_q.net.1.weight', 'transformer.layers.1.0.fn.to_q.net.1.bias', 'transformer.layers.1.0.fn.to_q.net.1.running_mean', 'transformer.layers.1.0.fn.to_q.net.1.running_var', 'transformer.layers.1.0.fn.to_q.net.1.num_batches_tracked', 'transformer.layers.1.0.fn.to_q.net.2.weight', 'transformer.layers.1.0.fn.to_kv.net.0.weight', 'transformer.layers.1.0.fn.to_kv.net.1.weight', 'transformer.layers.1.0.fn.to_kv.net.1.bias', 'transformer.layers.1.0.fn.to_kv.net.1.running_mean', 'transformer.layers.1.0.fn.to_kv.net.1.running_var', 'transformer.layers.1.0.fn.to_kv.net.1.num_batches_tracked', 'transformer.layers.1.0.fn.to_kv.net.2.weight', 'transformer.layers.1.0.fn.to_out.0.weight', 'transformer.layers.1.0.fn.to_out.0.bias', 'transformer.layers.1.1.norm.weight', 'transformer.layers.1.1.norm.bias', 'transformer.layers.1.1.fn.net.0.weight', 'transformer.layers.1.1.fn.net.0.bias', 'transformer.layers.1.1.fn.net.3.weight', 'transformer.layers.1.1.fn.net.3.bias', 'transformer.layers.2.0.norm.weight', 'transformer.layers.2.0.norm.bias', 'transformer.layers.2.0.fn.to_q.net.0.weight', 'transformer.layers.2.0.fn.to_q.net.1.weight', 'transformer.layers.2.0.fn.to_q.net.1.bias', 'transformer.layers.2.0.fn.to_q.net.1.running_mean', 'transformer.layers.2.0.fn.to_q.net.1.running_var', 'transformer.layers.2.0.fn.to_q.net.1.num_batches_tracked', 'transformer.layers.2.0.fn.to_q.net.2.weight', 'transformer.layers.2.0.fn.to_kv.net.0.weight', 'transformer.layers.2.0.fn.to_kv.net.1.weight', 'transformer.layers.2.0.fn.to_kv.net.1.bias', 'transformer.layers.2.0.fn.to_kv.net.1.running_mean', 'transformer.layers.2.0.fn.to_kv.net.1.running_var', 'transformer.layers.2.0.fn.to_kv.net.1.num_batches_tracked', 'transformer.layers.2.0.fn.to_kv.net.2.weight', 'transformer.layers.2.0.fn.to_out.0.weight', 'transformer.layers.2.0.fn.to_out.0.bias', 'transformer.layers.2.1.norm.weight', 'transformer.layers.2.1.norm.bias', 'transformer.layers.2.1.fn.net.0.weight', 'transformer.layers.2.1.fn.net.0.bias', 'transformer.layers.2.1.fn.net.3.weight', 'transformer.layers.2.1.fn.net.3.bias'])\n"
     ]
    }
   ],
   "source": [
    "import torch\n",
    "checkpoint = torch.load(\"/media/NAS07/USER_PATH/peiyuan/cytran_test/unest_fth025_depth3_nld3_ssi0/latest_net_G_A.pth\")\n",
    "print(checkpoint.keys())"
   ]
  },
  {
   "cell_type": "code",
   "execution_count": null,
   "id": "7fb3aaba-7e95-4695-b0b5-5cf9a61553b8",
   "metadata": {},
   "outputs": [],
   "source": []
  }
 ],
 "metadata": {
  "kernelspec": {
   "display_name": "Python (Unest)",
   "language": "python",
   "name": "unest"
  },
  "language_info": {
   "codemirror_mode": {
    "name": "ipython",
    "version": 3
   },
   "file_extension": ".py",
   "mimetype": "text/x-python",
   "name": "python",
   "nbconvert_exporter": "python",
   "pygments_lexer": "ipython3",
   "version": "3.8.20"
  }
 },
 "nbformat": 4,
 "nbformat_minor": 5
}
