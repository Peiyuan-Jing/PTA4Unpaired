{
 "cells": [
  {
   "cell_type": "code",
   "execution_count": 2,
   "id": "0ac41120-68d7-44a0-bc42-d32bffd4092c",
   "metadata": {},
   "outputs": [
    {
     "name": "stdout",
     "output_type": "stream",
     "text": [
      "Grayscale image value range: 0 to 221\n"
     ]
    }
   ],
   "source": [
    "import numpy as np\n",
    "from PIL import Image\n",
    "\n",
    "# Define image path\n",
    "image_path = \"/media/NAS07/USER_PATH/peiyuan1/results_t1t1/unest+sgp_output2/unest_fth025_depth4_nld3_ssi0/test_latest/low_high/low_field_119_fake_B.png\"\n",
    "\n",
    "# Load image in grayscale mode\n",
    "img = Image.open(image_path).convert(\"L\")  # \"L\" mode ensures grayscale\n",
    "\n",
    "# Convert to NumPy array\n",
    "img_array = np.array(img)\n",
    "\n",
    "# Get min and max pixel values\n",
    "min_val = img_array.min()\n",
    "max_val = img_array.max()\n",
    "\n",
    "print(f\"Grayscale image value range: {min_val} to {max_val}\")\n"
   ]
  },
  {
   "cell_type": "code",
   "execution_count": null,
   "id": "1d621fa9-9cb3-422b-866b-b826291a556e",
   "metadata": {},
   "outputs": [],
   "source": []
  }
 ],
 "metadata": {
  "kernelspec": {
   "display_name": "Python (Unest)",
   "language": "python",
   "name": "unest"
  },
  "language_info": {
   "codemirror_mode": {
    "name": "ipython",
    "version": 3
   },
   "file_extension": ".py",
   "mimetype": "text/x-python",
   "name": "python",
   "nbconvert_exporter": "python",
   "pygments_lexer": "ipython3",
   "version": "3.8.20"
  }
 },
 "nbformat": 4,
 "nbformat_minor": 5
}
