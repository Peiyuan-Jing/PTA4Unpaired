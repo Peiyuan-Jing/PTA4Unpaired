{
 "cells": [
  {
   "cell_type": "code",
   "execution_count": 1,
   "id": "35866f45-3e31-4372-95d0-d5699f880d3b",
   "metadata": {},
   "outputs": [
    {
     "name": "stdout",
     "output_type": "stream",
     "text": [
      "odict_keys(['vit.patch_embedding.position_embeddings', 'vit.patch_embedding.patch_embeddings.weight', 'vit.patch_embedding.patch_embeddings.bias', 'vit.blocks.0.mlp.linear1.weight', 'vit.blocks.0.mlp.linear1.bias', 'vit.blocks.0.mlp.linear2.weight', 'vit.blocks.0.mlp.linear2.bias', 'vit.blocks.0.norm1.weight', 'vit.blocks.0.norm1.bias', 'vit.blocks.0.attn.out_proj.weight', 'vit.blocks.0.attn.out_proj.bias', 'vit.blocks.0.attn.qkv.weight', 'vit.blocks.0.norm2.weight', 'vit.blocks.0.norm2.bias', 'vit.blocks.0.blocks.0.norm1.weight', 'vit.blocks.0.blocks.0.norm1.bias', 'vit.blocks.0.blocks.0.attn.relative_position_bias_table', 'vit.blocks.0.blocks.0.attn.relative_position_index', 'vit.blocks.0.blocks.0.attn.qkv.weight', 'vit.blocks.0.blocks.0.attn.proj.weight', 'vit.blocks.0.blocks.0.attn.proj.bias', 'vit.blocks.1.mlp.linear1.weight', 'vit.blocks.1.mlp.linear1.bias', 'vit.blocks.1.mlp.linear2.weight', 'vit.blocks.1.mlp.linear2.bias', 'vit.blocks.1.norm1.weight', 'vit.blocks.1.norm1.bias', 'vit.blocks.1.attn.out_proj.weight', 'vit.blocks.1.attn.out_proj.bias', 'vit.blocks.1.attn.qkv.weight', 'vit.blocks.1.norm2.weight', 'vit.blocks.1.norm2.bias', 'vit.blocks.1.blocks.0.norm1.weight', 'vit.blocks.1.blocks.0.norm1.bias', 'vit.blocks.1.blocks.0.attn.relative_position_bias_table', 'vit.blocks.1.blocks.0.attn.relative_position_index', 'vit.blocks.1.blocks.0.attn.qkv.weight', 'vit.blocks.1.blocks.0.attn.proj.weight', 'vit.blocks.1.blocks.0.attn.proj.bias', 'vit.blocks.2.mlp.linear1.weight', 'vit.blocks.2.mlp.linear1.bias', 'vit.blocks.2.mlp.linear2.weight', 'vit.blocks.2.mlp.linear2.bias', 'vit.blocks.2.norm1.weight', 'vit.blocks.2.norm1.bias', 'vit.blocks.2.attn.out_proj.weight', 'vit.blocks.2.attn.out_proj.bias', 'vit.blocks.2.attn.qkv.weight', 'vit.blocks.2.norm2.weight', 'vit.blocks.2.norm2.bias', 'vit.blocks.2.blocks.0.norm1.weight', 'vit.blocks.2.blocks.0.norm1.bias', 'vit.blocks.2.blocks.0.attn.relative_position_bias_table', 'vit.blocks.2.blocks.0.attn.relative_position_index', 'vit.blocks.2.blocks.0.attn.qkv.weight', 'vit.blocks.2.blocks.0.attn.proj.weight', 'vit.blocks.2.blocks.0.attn.proj.bias', 'vit.norm.weight', 'vit.norm.bias', 'vit.binary_seg.0.conv.weight', 'vit.binary_seg.0.adn.A.weight', 'vit.binary_seg.1.conv.weight', 'vit.binary_seg.1.adn.A.weight', 'vit.binary_seg.2.conv.weight', 'vit.binary_seg.2.adn.A.weight', 'vit.binary_seg.3.conv.weight', 'encoder1.layer.conv1.conv.weight', 'encoder1.layer.conv2.conv.weight', 'encoder1.layer.conv3.conv.weight', 'encoder2.up.conv.weight', 'encoder2.blocks.0.0.conv.weight', 'encoder2.blocks.0.1.conv1.conv.weight', 'encoder2.blocks.0.1.conv2.conv.weight', 'encoder2.blocks.1.0.conv.weight', 'encoder2.blocks.1.1.conv1.conv.weight', 'encoder2.blocks.1.1.conv2.conv.weight', 'encoder3.up.conv.weight', 'encoder3.blocks.0.0.conv.weight', 'encoder3.blocks.0.1.conv1.conv.weight', 'encoder3.blocks.0.1.conv2.conv.weight', 'encoder4.up.conv.weight', 'decoder5.up.conv.weight', 'decoder5.conv_block.conv1.conv.weight', 'decoder5.conv_block.conv2.conv.weight', 'decoder5.conv_block.conv3.conv.weight', 'decoder4.up.conv.weight', 'decoder4.conv_block.conv1.conv.weight', 'decoder4.conv_block.conv2.conv.weight', 'decoder4.conv_block.conv3.conv.weight', 'decoder3.up.conv.weight', 'decoder3.conv_block.conv1.conv.weight', 'decoder3.conv_block.conv2.conv.weight', 'decoder3.conv_block.conv3.conv.weight', 'decoder2.up.conv.weight', 'decoder2.conv_block.conv1.conv.weight', 'decoder2.conv_block.conv2.conv.weight', 'decoder2.conv_block.conv3.conv.weight', 'out.1.weight', 'out.1.bias'])\n"
     ]
    }
   ],
   "source": [
    "import torch\n",
    "checkpoint = torch.load(\"/media/NAS07/USER_PATH/peiyuan/unest_test/unest_fth025_depth3_nld3_ssi0/latest_net_G_A.pth\")\n",
    "print(checkpoint.keys())"
   ]
  },
  {
   "cell_type": "code",
   "execution_count": null,
   "id": "7fb3aaba-7e95-4695-b0b5-5cf9a61553b8",
   "metadata": {},
   "outputs": [],
   "source": []
  }
 ],
 "metadata": {
  "kernelspec": {
   "display_name": "Python (Unest)",
   "language": "python",
   "name": "unest"
  },
  "language_info": {
   "codemirror_mode": {
    "name": "ipython",
    "version": 3
   },
   "file_extension": ".py",
   "mimetype": "text/x-python",
   "name": "python",
   "nbconvert_exporter": "python",
   "pygments_lexer": "ipython3",
   "version": "3.8.20"
  }
 },
 "nbformat": 4,
 "nbformat_minor": 5
}
